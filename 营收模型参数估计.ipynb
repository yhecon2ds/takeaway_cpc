{
 "cells": [
  {
   "cell_type": "code",
   "execution_count": 41,
   "id": "fe7d662b",
   "metadata": {},
   "outputs": [],
   "source": [
    "import pandas as pd\n",
    "from linearmodels.panel import PanelOLS\n",
    "import statsmodels.api as sm"
   ]
  },
  {
   "cell_type": "code",
   "execution_count": 42,
   "id": "a15c2dcb",
   "metadata": {},
   "outputs": [
    {
     "name": "stdout",
     "output_type": "stream",
     "text": [
      "<class 'pandas.core.frame.DataFrame'>\n",
      "RangeIndex: 1177 entries, 0 to 1176\n",
      "Data columns (total 8 columns):\n",
      " #   Column  Non-Null Count  Dtype  \n",
      "---  ------  --------------  -----  \n",
      " 0   门店ID    1177 non-null   int64  \n",
      " 1   平台i     1177 non-null   object \n",
      " 2   日期      1177 non-null   object \n",
      " 3   cpc总费用  1177 non-null   float64\n",
      " 4   cpc曝光量  1177 non-null   int64  \n",
      " 5   cpc访问量  1177 non-null   int64  \n",
      " 6   自然曝光量   1165 non-null   float64\n",
      " 7   自然访问量   1165 non-null   float64\n",
      "dtypes: float64(3), int64(3), object(2)\n",
      "memory usage: 73.7+ KB\n"
     ]
    }
   ],
   "source": [
    "panel = pd.read_csv('ddm_cpc.csv')\n",
    "panel.info()"
   ]
  },
  {
   "cell_type": "code",
   "execution_count": 43,
   "id": "a9dabf75",
   "metadata": {},
   "outputs": [
    {
     "data": {
      "text/html": [
       "<div>\n",
       "<style scoped>\n",
       "    .dataframe tbody tr th:only-of-type {\n",
       "        vertical-align: middle;\n",
       "    }\n",
       "\n",
       "    .dataframe tbody tr th {\n",
       "        vertical-align: top;\n",
       "    }\n",
       "\n",
       "    .dataframe thead th {\n",
       "        text-align: right;\n",
       "    }\n",
       "</style>\n",
       "<table border=\"1\" class=\"dataframe\">\n",
       "  <thead>\n",
       "    <tr style=\"text-align: right;\">\n",
       "      <th></th>\n",
       "      <th>门店ID</th>\n",
       "      <th>平台i</th>\n",
       "      <th>日期</th>\n",
       "      <th>cpc总费用</th>\n",
       "      <th>cpc曝光量</th>\n",
       "      <th>cpc访问量</th>\n",
       "      <th>自然曝光量</th>\n",
       "      <th>自然访问量</th>\n",
       "    </tr>\n",
       "  </thead>\n",
       "  <tbody>\n",
       "    <tr>\n",
       "      <th>0</th>\n",
       "      <td>8184590</td>\n",
       "      <td>美团</td>\n",
       "      <td>2019-12-10</td>\n",
       "      <td>225.65</td>\n",
       "      <td>2711</td>\n",
       "      <td>173</td>\n",
       "      <td>1427.0</td>\n",
       "      <td>159.0</td>\n",
       "    </tr>\n",
       "    <tr>\n",
       "      <th>1</th>\n",
       "      <td>8223184</td>\n",
       "      <td>美团</td>\n",
       "      <td>2019-12-10</td>\n",
       "      <td>261.10</td>\n",
       "      <td>3665</td>\n",
       "      <td>169</td>\n",
       "      <td>11.0</td>\n",
       "      <td>86.0</td>\n",
       "    </tr>\n",
       "    <tr>\n",
       "      <th>2</th>\n",
       "      <td>8106681</td>\n",
       "      <td>美团</td>\n",
       "      <td>2019-12-10</td>\n",
       "      <td>177.50</td>\n",
       "      <td>2115</td>\n",
       "      <td>129</td>\n",
       "      <td>874.0</td>\n",
       "      <td>165.0</td>\n",
       "    </tr>\n",
       "    <tr>\n",
       "      <th>3</th>\n",
       "      <td>8165842</td>\n",
       "      <td>美团</td>\n",
       "      <td>2019-12-10</td>\n",
       "      <td>240.30</td>\n",
       "      <td>2937</td>\n",
       "      <td>164</td>\n",
       "      <td>614.0</td>\n",
       "      <td>162.0</td>\n",
       "    </tr>\n",
       "    <tr>\n",
       "      <th>4</th>\n",
       "      <td>2001220953</td>\n",
       "      <td>饿了么</td>\n",
       "      <td>2019-12-10</td>\n",
       "      <td>623.50</td>\n",
       "      <td>4190</td>\n",
       "      <td>401</td>\n",
       "      <td>1872.0</td>\n",
       "      <td>387.0</td>\n",
       "    </tr>\n",
       "  </tbody>\n",
       "</table>\n",
       "</div>"
      ],
      "text/plain": [
       "         门店ID  平台i          日期  cpc总费用  cpc曝光量  cpc访问量   自然曝光量  自然访问量\n",
       "0     8184590   美团  2019-12-10  225.65    2711     173  1427.0  159.0\n",
       "1     8223184   美团  2019-12-10  261.10    3665     169    11.0   86.0\n",
       "2     8106681   美团  2019-12-10  177.50    2115     129   874.0  165.0\n",
       "3     8165842   美团  2019-12-10  240.30    2937     164   614.0  162.0\n",
       "4  2001220953  饿了么  2019-12-10  623.50    4190     401  1872.0  387.0"
      ]
     },
     "execution_count": 43,
     "metadata": {},
     "output_type": "execute_result"
    }
   ],
   "source": [
    "panel.head()"
   ]
  },
  {
   "cell_type": "code",
   "execution_count": 44,
   "id": "ea770478",
   "metadata": {},
   "outputs": [],
   "source": [
    "# 填充缺失值，用前一天的自然曝光量和访问量来填充\n",
    "panel.sort_values(by=[\"门店ID\", \"日期\"])\n",
    "panel['自然曝光量']=panel['自然曝光量'].fillna(axis = 0,method = 'ffill')\n",
    "panel['自然访问量']=panel['自然访问量'].fillna(axis = 0,method = 'ffill')"
   ]
  },
  {
   "cell_type": "code",
   "execution_count": 45,
   "id": "b1b5c22a",
   "metadata": {},
   "outputs": [
    {
     "data": {
      "text/plain": [
       "门店ID      0\n",
       "平台i       0\n",
       "日期        0\n",
       "cpc总费用    0\n",
       "cpc曝光量    0\n",
       "cpc访问量    0\n",
       "自然曝光量     0\n",
       "自然访问量     0\n",
       "dtype: int64"
      ]
     },
     "execution_count": 45,
     "metadata": {},
     "output_type": "execute_result"
    }
   ],
   "source": [
    "pd.isna(panel).sum() "
   ]
  },
  {
   "cell_type": "code",
   "execution_count": 46,
   "id": "92f4ab1a",
   "metadata": {},
   "outputs": [],
   "source": [
    "#转化日期类型\n",
    "panel['日期'] = pd.to_datetime(panel['日期'])"
   ]
  },
  {
   "cell_type": "code",
   "execution_count": 47,
   "id": "4e5b49fe",
   "metadata": {},
   "outputs": [],
   "source": [
    "#虚拟变量\n",
    "platform = pd.get_dummies(panel['平台i'])\n",
    "panel = pd.concat([panel,platform],axis=1)\n",
    "panel.drop(['平台i'],axis = 1,inplace = True)"
   ]
  },
  {
   "cell_type": "code",
   "execution_count": 48,
   "id": "17fe4481",
   "metadata": {},
   "outputs": [
    {
     "data": {
      "text/html": [
       "<div>\n",
       "<style scoped>\n",
       "    .dataframe tbody tr th:only-of-type {\n",
       "        vertical-align: middle;\n",
       "    }\n",
       "\n",
       "    .dataframe tbody tr th {\n",
       "        vertical-align: top;\n",
       "    }\n",
       "\n",
       "    .dataframe thead th {\n",
       "        text-align: right;\n",
       "    }\n",
       "</style>\n",
       "<table border=\"1\" class=\"dataframe\">\n",
       "  <thead>\n",
       "    <tr style=\"text-align: right;\">\n",
       "      <th></th>\n",
       "      <th>门店ID</th>\n",
       "      <th>日期</th>\n",
       "      <th>cpc总费用</th>\n",
       "      <th>cpc曝光量</th>\n",
       "      <th>cpc访问量</th>\n",
       "      <th>自然曝光量</th>\n",
       "      <th>自然访问量</th>\n",
       "      <th>美团</th>\n",
       "      <th>饿了么</th>\n",
       "    </tr>\n",
       "  </thead>\n",
       "  <tbody>\n",
       "    <tr>\n",
       "      <th>0</th>\n",
       "      <td>8184590</td>\n",
       "      <td>2019-12-10</td>\n",
       "      <td>225.65</td>\n",
       "      <td>2711</td>\n",
       "      <td>173</td>\n",
       "      <td>1427.0</td>\n",
       "      <td>159.0</td>\n",
       "      <td>1</td>\n",
       "      <td>0</td>\n",
       "    </tr>\n",
       "    <tr>\n",
       "      <th>1</th>\n",
       "      <td>8223184</td>\n",
       "      <td>2019-12-10</td>\n",
       "      <td>261.10</td>\n",
       "      <td>3665</td>\n",
       "      <td>169</td>\n",
       "      <td>11.0</td>\n",
       "      <td>86.0</td>\n",
       "      <td>1</td>\n",
       "      <td>0</td>\n",
       "    </tr>\n",
       "    <tr>\n",
       "      <th>2</th>\n",
       "      <td>8106681</td>\n",
       "      <td>2019-12-10</td>\n",
       "      <td>177.50</td>\n",
       "      <td>2115</td>\n",
       "      <td>129</td>\n",
       "      <td>874.0</td>\n",
       "      <td>165.0</td>\n",
       "      <td>1</td>\n",
       "      <td>0</td>\n",
       "    </tr>\n",
       "    <tr>\n",
       "      <th>3</th>\n",
       "      <td>8165842</td>\n",
       "      <td>2019-12-10</td>\n",
       "      <td>240.30</td>\n",
       "      <td>2937</td>\n",
       "      <td>164</td>\n",
       "      <td>614.0</td>\n",
       "      <td>162.0</td>\n",
       "      <td>1</td>\n",
       "      <td>0</td>\n",
       "    </tr>\n",
       "    <tr>\n",
       "      <th>4</th>\n",
       "      <td>2001220953</td>\n",
       "      <td>2019-12-10</td>\n",
       "      <td>623.50</td>\n",
       "      <td>4190</td>\n",
       "      <td>401</td>\n",
       "      <td>1872.0</td>\n",
       "      <td>387.0</td>\n",
       "      <td>0</td>\n",
       "      <td>1</td>\n",
       "    </tr>\n",
       "  </tbody>\n",
       "</table>\n",
       "</div>"
      ],
      "text/plain": [
       "         门店ID         日期  cpc总费用  cpc曝光量  cpc访问量   自然曝光量  自然访问量  美团  饿了么\n",
       "0     8184590 2019-12-10  225.65    2711     173  1427.0  159.0   1    0\n",
       "1     8223184 2019-12-10  261.10    3665     169    11.0   86.0   1    0\n",
       "2     8106681 2019-12-10  177.50    2115     129   874.0  165.0   1    0\n",
       "3     8165842 2019-12-10  240.30    2937     164   614.0  162.0   1    0\n",
       "4  2001220953 2019-12-10  623.50    4190     401  1872.0  387.0   0    1"
      ]
     },
     "execution_count": 48,
     "metadata": {},
     "output_type": "execute_result"
    }
   ],
   "source": [
    "panel.head()"
   ]
  },
  {
   "cell_type": "code",
   "execution_count": 49,
   "id": "9b42b91e",
   "metadata": {},
   "outputs": [],
   "source": [
    "# 设置面板\n",
    "meituan = panel[panel['美团']==1].reset_index(drop=True)\n",
    "meituan=meituan.set_index('日期', append=True)\n",
    "meituan.index = meituan.index.swaplevel(0,1)"
   ]
  },
  {
   "cell_type": "code",
   "execution_count": 51,
   "id": "6d3e6f46",
   "metadata": {},
   "outputs": [
    {
     "name": "stdout",
     "output_type": "stream",
     "text": [
      "                          PanelOLS Estimation Summary                           \n",
      "================================================================================\n",
      "Dep. Variable:                 cpc访问量   R-squared:                        0.9213\n",
      "Estimator:                   PanelOLS   R-squared (Between):              0.9570\n",
      "No. Observations:                 446   R-squared (Within):               0.9213\n",
      "Date:                Wed, Feb 08 2023   R-squared (Overall):              0.9585\n",
      "Time:                        15:22:07   Log-likelihood                   -1764.3\n",
      "Cov. Estimator:            Unadjusted                                           \n",
      "                                        F-statistic:                      1990.1\n",
      "Entities:                         275   P-value                           0.0000\n",
      "Avg Obs:                       1.6218   Distribution:                   F(1,170)\n",
      "Min Obs:                       1.0000                                           \n",
      "Max Obs:                       6.0000   F-statistic (robust):             1990.1\n",
      "                                        P-value                           0.0000\n",
      "Time periods:                     446   Distribution:                   F(1,170)\n",
      "Avg Obs:                       1.0000                                           \n",
      "Min Obs:                       1.0000                                           \n",
      "Max Obs:                       1.0000                                           \n",
      "                                                                                \n",
      "                             Parameter Estimates                              \n",
      "==============================================================================\n",
      "            Parameter  Std. Err.     T-stat    P-value    Lower CI    Upper CI\n",
      "------------------------------------------------------------------------------\n",
      "cpc总费用         0.6491     0.0145     44.611     0.0000      0.6203      0.6778\n",
      "==============================================================================\n",
      "\n",
      "F-test for Poolability: 1.0951\n",
      "P-value: 0.2597\n",
      "Distribution: F(274,170)\n",
      "\n",
      "Included effects: Entity\n"
     ]
    }
   ],
   "source": [
    "# 2-way fixed effect 美团\n",
    "exog = sm.add_constant(meituan['cpc总费用'])\n",
    "meituan_femodel = PanelOLS(meituan['cpc访问量'],meituan['cpc总费用'], entity_effects=True, time_effects=False)\n",
    "meituan_fe = meituan_femodel.fit()\n",
    "print(meituan_fe)"
   ]
  },
  {
   "cell_type": "code",
   "execution_count": 52,
   "id": "2a7beb4a",
   "metadata": {},
   "outputs": [],
   "source": [
    "# two-way fixed effect：饿了么\n",
    "eleme = panel[panel['饿了么']==1].reset_index(drop=True)\n",
    "eleme=eleme.set_index('日期', append=True)\n",
    "eleme.index = eleme.index.swaplevel(0,1)"
   ]
  },
  {
   "cell_type": "code",
   "execution_count": 53,
   "id": "e8ed73b2",
   "metadata": {},
   "outputs": [
    {
     "name": "stdout",
     "output_type": "stream",
     "text": [
      "                          PanelOLS Estimation Summary                           \n",
      "================================================================================\n",
      "Dep. Variable:                 cpc访问量   R-squared:                        0.9514\n",
      "Estimator:                   PanelOLS   R-squared (Between):              0.9557\n",
      "No. Observations:                 731   R-squared (Within):               0.9514\n",
      "Date:                Wed, Feb 08 2023   R-squared (Overall):              0.9601\n",
      "Time:                        15:23:22   Log-likelihood                   -3072.3\n",
      "Cov. Estimator:            Unadjusted                                           \n",
      "                                        F-statistic:                      8145.4\n",
      "Entities:                         314   P-value                           0.0000\n",
      "Avg Obs:                       2.3280   Distribution:                   F(1,416)\n",
      "Min Obs:                       1.0000                                           \n",
      "Max Obs:                       7.0000   F-statistic (robust):             8145.4\n",
      "                                        P-value                           0.0000\n",
      "Time periods:                     731   Distribution:                   F(1,416)\n",
      "Avg Obs:                       1.0000                                           \n",
      "Min Obs:                       1.0000                                           \n",
      "Max Obs:                       1.0000                                           \n",
      "                                                                                \n",
      "                             Parameter Estimates                              \n",
      "==============================================================================\n",
      "            Parameter  Std. Err.     T-stat    P-value    Lower CI    Upper CI\n",
      "------------------------------------------------------------------------------\n",
      "cpc总费用         0.6066     0.0067     90.252     0.0000      0.5934      0.6198\n",
      "==============================================================================\n",
      "\n",
      "F-test for Poolability: 1.4903\n",
      "P-value: 0.0001\n",
      "Distribution: F(313,416)\n",
      "\n",
      "Included effects: Entity\n"
     ]
    }
   ],
   "source": [
    "exog = sm.add_constant(eleme['cpc总费用'])\n",
    "eleme_femodel = PanelOLS(eleme['cpc访问量'],eleme['cpc总费用'], entity_effects=True, time_effects=False)\n",
    "eleme_fe = eleme_femodel.fit()\n",
    "print(eleme_fe)"
   ]
  }
 ],
 "metadata": {
  "kernelspec": {
   "display_name": "Python 3",
   "language": "python",
   "name": "python3"
  },
  "language_info": {
   "codemirror_mode": {
    "name": "ipython",
    "version": 3
   },
   "file_extension": ".py",
   "mimetype": "text/x-python",
   "name": "python",
   "nbconvert_exporter": "python",
   "pygments_lexer": "ipython3",
   "version": "3.7.0"
  }
 },
 "nbformat": 4,
 "nbformat_minor": 5
}
